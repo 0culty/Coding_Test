{
 "cells": [
  {
   "cell_type": "code",
   "execution_count": 3,
   "metadata": {
    "tags": []
   },
   "outputs": [
    {
     "output_type": "stream",
     "name": "stdout",
     "text": "1-2\n1-3\n2-0\n2-1\n2-2\n2-3\n"
    }
   ],
   "source": [
    "\n",
    "N, M = 3, 4\n",
    "arr = [[0,0,0], [0,0,0], [0,0,0], [0,0,0]]\n",
    "x, y = 1, 2\n",
    "\n",
    "for i in range(x, N):\n",
    "    k = y if i == x else 0\n",
    "    for j in range(k,M):\n",
    "        arr[i][j] == 1\n",
    "        for a in range(3)"
   ]
  },
  {
   "cell_type": "code",
   "execution_count": 21,
   "metadata": {},
   "outputs": [
    {
     "output_type": "execute_result",
     "data": {
      "text/plain": "[['#', '#', '#', '#', '#', '#', '#', '#'],\n ['#', '0', '0', '0', '0', '0', '0', '#'],\n ['#', '0', '0', '0', '0', '*', '0', '#'],\n ['#', '0', '0', '0', '*', '0', '0', '#'],\n ['#', '0', '0', '0', '0', '0', '0', '#'],\n ['#', '0', '0', '*', '0', '0', '0', '#'],\n ['#', '0', '0', '0', '0', '0', '0', '#'],\n ['#', '#', '#', '#', '#', '#', '#', '#']]"
     },
     "metadata": {},
     "execution_count": 21
    }
   ],
   "source": [
    "b = ['3 4', '2 5', '5 3']\n",
    "for i in range(K):\n",
    "        x, y = map(int, b[i].split())\n",
    "        B[x][y] = '*'\n",
    "L = 3\n",
    "L_dic = {}\n",
    "a = ['3 D', '15 L', '17 D']\n",
    "for i in range(L):\n",
    "    k, v = a[i].split()\n",
    "    L_dic[int(k)] = v\n",
    "B"
   ]
  },
  {
   "cell_type": "code",
   "execution_count": 13,
   "metadata": {},
   "outputs": [],
   "source": [
    "N = 3\n",
    "b = move_left(a)"
   ]
  },
  {
   "cell_type": "code",
   "execution_count": 14,
   "metadata": {},
   "outputs": [
    {
     "output_type": "execute_result",
     "data": {
      "text/plain": "[[4, 0, 0], [2, 4, 0], [2, 8, 0]]"
     },
     "metadata": {},
     "execution_count": 14
    }
   ],
   "source": [
    "b"
   ]
  },
  {
   "cell_type": "code",
   "execution_count": 3,
   "metadata": {
    "tags": []
   },
   "outputs": [
    {
     "output_type": "execute_result",
     "data": {
      "text/plain": "[0,\n 1,\n 2,\n 1,\n 2,\n 3,\n 2,\n 1,\n 2,\n 3,\n 0,\n 3,\n 2,\n 3,\n 2,\n 1,\n 2,\n 3,\n 0,\n 3,\n 0,\n 1,\n 0,\n 3,\n 2,\n 3,\n 0,\n 3,\n 2,\n 3,\n 2,\n 1,\n 2,\n 3,\n 0,\n 3,\n 0,\n 1,\n 0,\n 3,\n 0,\n 1,\n 2,\n 1,\n 0,\n 1,\n 0,\n 3,\n 2,\n 3,\n 0,\n 3,\n 0,\n 1,\n 0,\n 3,\n 2,\n 3,\n 0,\n 3,\n 2,\n 3,\n 2,\n 1,\n 2,\n 3,\n 0,\n 3,\n 0,\n 1,\n 0,\n 3,\n 0,\n 1,\n 2,\n 1,\n 0,\n 1,\n 0,\n 3,\n 0,\n 1,\n 2,\n 1,\n 2,\n 3,\n 2,\n 1,\n 0,\n 1,\n 2,\n 1,\n 0,\n 1,\n 0,\n 3,\n 2,\n 3,\n 0,\n 3,\n 0,\n 1,\n 0,\n 3,\n 0,\n 1,\n 2,\n 1,\n 0,\n 1,\n 0,\n 3,\n 2,\n 3,\n 0,\n 3,\n 0,\n 1,\n 0,\n 3,\n 2,\n 3,\n 0,\n 3,\n 2,\n 3,\n 2,\n 1,\n 2,\n 3,\n 0,\n 3,\n 0,\n 1,\n 0,\n 3,\n 0,\n 1,\n 2,\n 1,\n 0,\n 1,\n 0,\n 3,\n 0,\n 1,\n 2,\n 1,\n 2,\n 3,\n 2,\n 1,\n 0,\n 1,\n 2,\n 1,\n 0,\n 1,\n 0,\n 3,\n 0,\n 1,\n 2,\n 1,\n 2,\n 3,\n 2,\n 1,\n 2,\n 3,\n 0,\n 3,\n 2,\n 3,\n 2,\n 1,\n 0,\n 1,\n 2,\n 1,\n 2,\n 3,\n 2,\n 1,\n 0,\n 1,\n 2,\n 1,\n 0,\n 1,\n 0,\n 3,\n 2,\n 3,\n 0,\n 3,\n 0,\n 1,\n 0,\n 3,\n 0,\n 1,\n 2,\n 1,\n 0,\n 1,\n 0,\n 3,\n 0,\n 1,\n 2,\n 1,\n 2,\n 3,\n 2,\n 1,\n 0,\n 1,\n 2,\n 1,\n 0,\n 1,\n 0,\n 3,\n 2,\n 3,\n 0,\n 3,\n 0,\n 1,\n 0,\n 3,\n 0,\n 1,\n 2,\n 1,\n 0,\n 1,\n 0,\n 3,\n 2,\n 3,\n 0,\n 3,\n 0,\n 1,\n 0,\n 3,\n 2,\n 3,\n 0,\n 3,\n 2,\n 3,\n 2,\n 1,\n 2,\n 3,\n 0,\n 3,\n 0,\n 1,\n 0,\n 3,\n 0,\n 1,\n 2,\n 1,\n 0,\n 1,\n 0,\n 3,\n 0,\n 1,\n 2,\n 1,\n 2,\n 3,\n 2,\n 1,\n 0,\n 1,\n 2,\n 1,\n 0,\n 1,\n 0,\n 3,\n 0,\n 1,\n 2,\n 1,\n 2,\n 3,\n 2,\n 1,\n 2,\n 3,\n 0,\n 3,\n 2,\n 3,\n 2,\n 1,\n 0,\n 1,\n 2,\n 1,\n 2,\n 3,\n 2,\n 1,\n 0,\n 1,\n 2,\n 1,\n 0,\n 1,\n 0,\n 3,\n 0,\n 1,\n 2,\n 1,\n 2,\n 3,\n 2,\n 1,\n 2,\n 3,\n 0,\n 3,\n 2,\n 3,\n 2,\n 1,\n 2,\n 3,\n 0,\n 3,\n 0,\n 1,\n 0,\n 3,\n 2,\n 3,\n 0,\n 3,\n 2,\n 3,\n 2,\n 1,\n 0,\n 1,\n 2,\n 1,\n 2,\n 3,\n 2,\n 1,\n 2,\n 3,\n 0,\n 3,\n 2,\n 3,\n 2,\n 1,\n 0,\n 1,\n 2,\n 1,\n 2,\n 3,\n 2,\n 1,\n 0,\n 1,\n 2,\n 1,\n 0,\n 1,\n 0,\n 3,\n 2,\n 3,\n 0,\n 3,\n 0,\n 1,\n 0,\n 3,\n 0,\n 1,\n 2,\n 1,\n 0,\n 1,\n 0,\n 3,\n 0,\n 1,\n 2,\n 1,\n 2,\n 3,\n 2,\n 1,\n 0,\n 1,\n 2,\n 1,\n 0,\n 1,\n 0,\n 3,\n 0,\n 1,\n 2,\n 1,\n 2,\n 3,\n 2,\n 1,\n 2,\n 3,\n 0,\n 3,\n 2,\n 3,\n 2,\n 1,\n 0,\n 1,\n 2,\n 1,\n 2,\n 3,\n 2,\n 1,\n 0,\n 1,\n 2,\n 1,\n 0,\n 1,\n 0,\n 3,\n 2,\n 3,\n 0,\n 3,\n 0,\n 1,\n 0,\n 3,\n 0,\n 1,\n 2,\n 1,\n 0,\n 1,\n 0,\n 3,\n 0,\n 1,\n 2,\n 1,\n 2,\n 3,\n 2,\n 1,\n 0,\n 1,\n 2,\n 1,\n 0,\n 1,\n 0,\n 3,\n 2,\n 3,\n 0,\n 3,\n 0,\n 1,\n 0,\n 3,\n 0,\n 1,\n 2,\n 1,\n 0,\n 1,\n 0,\n 3,\n 2,\n 3,\n 0,\n 3,\n 0,\n 1,\n 0,\n 3,\n 2,\n 3,\n 0,\n 3,\n 2,\n 3,\n 2,\n 1,\n 2,\n 3,\n 0,\n 3,\n 0,\n 1,\n 0,\n 3,\n 0,\n 1,\n 2,\n 1,\n 0,\n 1,\n 0,\n 3,\n 0,\n 1,\n 2,\n 1,\n 2,\n 3,\n 2,\n 1,\n 0,\n 1,\n 2,\n 1,\n 0,\n 1,\n 0,\n 3,\n 0,\n 1,\n 2,\n 1,\n 2,\n 3,\n 2,\n 1,\n 2,\n 3,\n 0,\n 3,\n 2,\n 3,\n 2,\n 1,\n 0,\n 1,\n 2,\n 1,\n 2,\n 3,\n 2,\n 1,\n 0,\n 1,\n 2,\n 1,\n 0,\n 1,\n 0,\n 3,\n 0,\n 1,\n 2,\n 1,\n 2,\n 3,\n 2,\n 1,\n 2,\n 3,\n 0,\n 3,\n 2,\n 3,\n 2,\n 1,\n 2,\n 3,\n 0,\n 3,\n 0,\n 1,\n 0,\n 3,\n 2,\n 3,\n 0,\n 3,\n 2,\n 3,\n 2,\n 1,\n 0,\n 1,\n 2,\n 1,\n 2,\n 3,\n 2,\n 1,\n 2,\n 3,\n 0,\n 3,\n 2,\n 3,\n 2,\n 1,\n 0,\n 1,\n 2,\n 1,\n 2,\n 3,\n 2,\n 1,\n 0,\n 1,\n 2,\n 1,\n 0,\n 1,\n 0,\n 3,\n 0,\n 1,\n 2,\n 1,\n 2,\n 3,\n 2,\n 1,\n 2,\n 3,\n 0,\n 3,\n 2,\n 3,\n 2,\n 1,\n 2,\n 3,\n 0,\n 3,\n 0,\n 1,\n 0,\n 3,\n 2,\n 3,\n 0,\n 3,\n 2,\n 3,\n 2,\n 1,\n 2,\n 3,\n 0,\n 3,\n 0,\n 1,\n 0,\n 3,\n 0,\n 1,\n 2,\n 1,\n 0,\n 1,\n 0,\n 3,\n 2,\n 3,\n 0,\n 3,\n 0,\n 1,\n 0,\n 3,\n 2,\n 3,\n 0,\n 3,\n 2,\n 3,\n 2,\n 1,\n 0,\n 1,\n 2,\n 1,\n 2,\n 3,\n 2,\n 1,\n 2,\n 3,\n 0,\n 3,\n 2,\n 3,\n 2,\n 1,\n 2,\n 3,\n 0,\n 3,\n 0,\n 1,\n 0,\n 3,\n 2,\n 3,\n 0,\n 3,\n 2,\n 3,\n 2,\n 1,\n 0,\n 1,\n 2,\n 1,\n 2,\n 3,\n 2,\n 1,\n 2,\n 3,\n 0,\n 3,\n 2,\n 3,\n 2,\n 1,\n 0,\n 1,\n 2,\n 1,\n 2,\n 3,\n 2,\n 1,\n 0,\n 1,\n 2,\n 1,\n 0,\n 1,\n 0,\n 3,\n 2,\n 3,\n 0,\n 3,\n 0,\n 1,\n 0,\n 3,\n 0,\n 1,\n 2,\n 1,\n 0,\n 1,\n 0,\n 3,\n 0,\n 1,\n 2,\n 1,\n 2,\n 3,\n 2,\n 1,\n 0,\n 1,\n 2,\n 1,\n 0,\n 1,\n 0,\n 3,\n 0,\n 1,\n 2,\n 1,\n 2,\n 3,\n 2,\n 1,\n 2,\n 3,\n 0,\n 3,\n 2,\n 3,\n 2,\n 1,\n 0,\n 1,\n 2,\n 1,\n 2,\n 3,\n 2,\n 1,\n 0,\n 1,\n 2,\n 1,\n 0,\n 1,\n 0,\n 3,\n 0,\n 1,\n 2,\n 1,\n 2,\n 3,\n 2,\n 1,\n 2,\n 3,\n 0,\n 3,\n 2,\n 3,\n 2,\n 1,\n 2,\n 3,\n 0,\n 3,\n 0,\n 1,\n 0,\n 3,\n 2,\n 3,\n 0,\n 3,\n 2,\n 3,\n 2,\n 1,\n 0,\n 1,\n 2,\n 1,\n 2,\n 3,\n 2,\n 1,\n 2,\n 3,\n 0,\n 3,\n 2,\n 3,\n 2,\n 1,\n 0,\n 1,\n 2,\n 1,\n 2,\n 3,\n 2,\n 1,\n 0,\n 1,\n 2,\n 1,\n 0,\n 1,\n 0,\n 3,\n 2,\n 3,\n 0,\n 3,\n 0,\n 1,\n 0,\n 3,\n 0,\n 1,\n 2,\n 1,\n 0,\n 1,\n 0,\n 3,\n 0,\n 1,\n 2,\n 1,\n 2,\n 3,\n 2,\n 1,\n 0,\n 1,\n 2,\n 1,\n 0,\n 1,\n 0,\n 3,\n 0,\n 1,\n 2,\n 1,\n 2,\n 3,\n 2,\n 1,\n 2,\n 3,\n 0,\n 3,\n 2,\n 3,\n 2,\n 1,\n 0,\n 1,\n 2,\n 1,\n 2,\n 3,\n 2,\n 1,\n 0,\n 1,\n 2,\n 1,\n 0,\n 1,\n 0,\n 3,\n 2,\n 3,\n 0,\n 3,\n 0,\n 1,\n 0,\n 3,\n 0,\n 1,\n 2,\n 1,\n 0,\n 1,\n 0,\n 3,\n 0,\n 1,\n 2,\n 1,\n 2,\n 3,\n 2,\n 1,\n 0,\n 1,\n 2,\n 1,\n 0,\n 1,\n 0,\n 3,\n 2,\n 3,\n 0,\n 3,\n 0,\n 1,\n 0,\n 3,\n ...]"
     },
     "metadata": {},
     "execution_count": 3
    }
   ],
   "source": [
    "v, ans = [0], 0\n",
    "a = [[0]*101 for _ in range(101)]\n",
    "dx, dy = (1, 0, -1, 0), (0, -1, 0, 1)\n",
    "\n",
    "for i in range(1, 3):\n",
    "    k = 1<<(i-1)\n",
    "    for j in range(k):\n",
    "        v.append((v[k-j-1]+1)%4)\n",
    "        print(v)\n",
    "        print(\"=====\")\n",
    "v"
   ]
  },
  {
   "cell_type": "code",
   "execution_count": null,
   "metadata": {},
   "outputs": [],
   "source": []
  }
 ],
 "metadata": {
  "language_info": {
   "codemirror_mode": {
    "name": "ipython",
    "version": 3
   },
   "file_extension": ".py",
   "mimetype": "text/x-python",
   "name": "python",
   "nbconvert_exporter": "python",
   "pygments_lexer": "ipython3",
   "version": 3
  },
  "orig_nbformat": 2,
  "kernelspec": {
   "name": "python_defaultSpec_1613031133271",
   "display_name": "Python 3.7.7 64-bit ('tc': venv)"
  }
 },
 "nbformat": 4,
 "nbformat_minor": 2
}