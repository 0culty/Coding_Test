{
 "cells": [
  {
   "cell_type": "code",
   "execution_count": 26,
   "metadata": {
    "tags": []
   },
   "outputs": [
    {
     "output_type": "stream",
     "name": "stdout",
     "text": "0\n3\n2\n====\n0\n2\n4\n====\n0\n3\n6\n====\n0\n2\n8\n====\n0\n3\n10\n====\n10\n"
    }
   ],
   "source": [
    "\n",
    "def solution():\n",
    "    N = 5\n",
    "    A = [10, 9, 10, 9, 10]\n",
    "    B, C = 7, 20\n",
    "    ret = 0\n",
    "\n",
    "    for i in range(N):\n",
    "        if A[i] > B:\n",
    "            div, mod = divmod(A[i]-B, C)\n",
    "            print(div)\n",
    "            print(mod)\n",
    "            if mod == 0:\n",
    "                ret += div+1\n",
    "            else:\n",
    "                ret += div+2\n",
    "        else:\n",
    "            ret += 1\n",
    "        print(ret)\n",
    "        print('====')\n",
    "    return ret\n",
    "\n",
    "print(solution())"
   ]
  },
  {
   "cell_type": "code",
   "execution_count": 21,
   "metadata": {},
   "outputs": [
    {
     "output_type": "execute_result",
     "data": {
      "text/plain": "[['#', '#', '#', '#', '#', '#', '#', '#'],\n ['#', '0', '0', '0', '0', '0', '0', '#'],\n ['#', '0', '0', '0', '0', '*', '0', '#'],\n ['#', '0', '0', '0', '*', '0', '0', '#'],\n ['#', '0', '0', '0', '0', '0', '0', '#'],\n ['#', '0', '0', '*', '0', '0', '0', '#'],\n ['#', '0', '0', '0', '0', '0', '0', '#'],\n ['#', '#', '#', '#', '#', '#', '#', '#']]"
     },
     "metadata": {},
     "execution_count": 21
    }
   ],
   "source": [
    "b = ['3 4', '2 5', '5 3']\n",
    "for i in range(K):\n",
    "        x, y = map(int, b[i].split())\n",
    "        B[x][y] = '*'\n",
    "L = 3\n",
    "L_dic = {}\n",
    "a = ['3 D', '15 L', '17 D']\n",
    "for i in range(L):\n",
    "    k, v = a[i].split()\n",
    "    L_dic[int(k)] = v\n",
    "B"
   ]
  },
  {
   "cell_type": "code",
   "execution_count": 13,
   "metadata": {},
   "outputs": [],
   "source": [
    "N = 3\n",
    "b = move_left(a)"
   ]
  },
  {
   "cell_type": "code",
   "execution_count": 14,
   "metadata": {},
   "outputs": [
    {
     "output_type": "execute_result",
     "data": {
      "text/plain": "[[4, 0, 0], [2, 4, 0], [2, 8, 0]]"
     },
     "metadata": {},
     "execution_count": 14
    }
   ],
   "source": [
    "b"
   ]
  },
  {
   "cell_type": "code",
   "execution_count": null,
   "metadata": {},
   "outputs": [],
   "source": []
  }
 ],
 "metadata": {
  "language_info": {
   "codemirror_mode": {
    "name": "ipython",
    "version": 3
   },
   "file_extension": ".py",
   "mimetype": "text/x-python",
   "name": "python",
   "nbconvert_exporter": "python",
   "pygments_lexer": "ipython3",
   "version": 3
  },
  "orig_nbformat": 2,
  "kernelspec": {
   "name": "python_defaultSpec_1612716059619",
   "display_name": "Python 3.7.7 64-bit ('tc': venv)"
  }
 },
 "nbformat": 4,
 "nbformat_minor": 2
}